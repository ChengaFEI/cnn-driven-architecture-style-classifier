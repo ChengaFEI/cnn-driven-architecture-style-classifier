{
 "cells": [
  {
   "cell_type": "markdown",
   "metadata": {},
   "source": [
    "### Data Augumentation\n",
    "- Random rotation\n",
    "- Width Shift\n",
    "- Height Shift\n",
    "- Shear\n",
    "- Zoom\n",
    "- Horizontal Flip\n",
    "- Brightness\n",
    "\n",
    "Generate 5x more data"
   ]
  },
  {
   "cell_type": "code",
   "execution_count": 4,
   "metadata": {},
   "outputs": [
    {
     "name": "stdout",
     "output_type": "stream",
     "text": [
      "Augmenting images for class: Achaemenid architecture\n",
      "Augmenting images for class: Ancient Egyptian architecture\n",
      "Augmenting images for class: Baroque architecture\n",
      "Augmenting images for class: Byzantine architecture\n",
      "Augmenting images for class: Colonial architecture\n",
      "Augmenting images for class: Deconstructivism\n",
      "Augmenting images for class: Gothic architecture\n",
      "Augmenting images for class: Greek Revival architecture\n",
      "Augmenting images for class: International style\n",
      "Augmenting images for class: Russian Revival architecture\n"
     ]
    }
   ],
   "source": [
    "import os\n",
    "import numpy as np\n",
    "from tensorflow.keras.preprocessing.image import ImageDataGenerator, array_to_img, img_to_array, load_img\n",
    "\n",
    "def augment_and_save_images(input_folder, output_folder, num_augmented_images=5):\n",
    "    # Create an ImageDataGenerator with desired augmentations\n",
    "    datagen = ImageDataGenerator(\n",
    "        rotation_range=10,\n",
    "        width_shift_range=0.1,\n",
    "        height_shift_range=0.1,\n",
    "        shear_range=0.2,\n",
    "        zoom_range=0.2,\n",
    "        horizontal_flip=True,\n",
    "        brightness_range=[0.2, 0.8],\n",
    "        fill_mode='nearest'\n",
    "    )\n",
    "\n",
    "    # Iterate through each folder corresponding to a class\n",
    "    for class_folder in os.listdir(input_folder):\n",
    "        print('Augmenting images for class: ' + class_folder)\n",
    "        class_path = os.path.join(input_folder, class_folder)\n",
    "        output_class_path = os.path.join(output_folder, class_folder)\n",
    "\n",
    "        # Create output folder if it doesn't exist\n",
    "        os.makedirs(output_class_path, exist_ok=True)\n",
    "\n",
    "        # Iterate through each image in the class folder\n",
    "        for file in os.listdir(class_path):\n",
    "            img_path = os.path.join(class_path, file)\n",
    "            img = load_img(img_path)\n",
    "            x = img_to_array(img)\n",
    "            x = x.reshape((1,) + x.shape)\n",
    "\n",
    "            # Generate augmented images\n",
    "            i = 0\n",
    "            for batch in datagen.flow(x, batch_size=1, save_to_dir=output_class_path, save_prefix='aug', save_format='jpeg'):\n",
    "                i += 1\n",
    "                if i >= num_augmented_images:\n",
    "                    break  # break the loop after generating num_augmented_images\n",
    "\n",
    "# Example usage:\n",
    "input_folder = './dataset-lite'\n",
    "output_folder = './dataset-lite-augumented'\n",
    "augment_and_save_images(input_folder, output_folder, num_augmented_images=5)"
   ]
  }
 ],
 "metadata": {
  "kernelspec": {
   "display_name": "tfgpu",
   "language": "python",
   "name": "python3"
  },
  "language_info": {
   "codemirror_mode": {
    "name": "ipython",
    "version": 3
   },
   "file_extension": ".py",
   "mimetype": "text/x-python",
   "name": "python",
   "nbconvert_exporter": "python",
   "pygments_lexer": "ipython3",
   "version": "3.9.18"
  }
 },
 "nbformat": 4,
 "nbformat_minor": 2
}
